{
 "cells": [
  {
   "cell_type": "markdown",
   "id": "602b9eb8",
   "metadata": {},
   "source": [
    "# 1. Lets do some operations with Data types\n",
    "# 2. Some Basic Code\n",
    "# 3. Operators\n",
    "# 4. List parsing"
   ]
  },
  {
   "cell_type": "code",
   "execution_count": 1,
   "id": "3bd39d1e",
   "metadata": {},
   "outputs": [],
   "source": [
    "var='string'"
   ]
  },
  {
   "cell_type": "code",
   "execution_count": 2,
   "id": "2e652092",
   "metadata": {},
   "outputs": [
    {
     "data": {
      "text/plain": [
       "'s'"
      ]
     },
     "execution_count": 2,
     "metadata": {},
     "output_type": "execute_result"
    }
   ],
   "source": [
    "var[0]"
   ]
  },
  {
   "cell_type": "code",
   "execution_count": 3,
   "id": "38ee683a",
   "metadata": {},
   "outputs": [
    {
     "data": {
      "text/plain": [
       "'t'"
      ]
     },
     "execution_count": 3,
     "metadata": {},
     "output_type": "execute_result"
    }
   ],
   "source": [
    "var[1]"
   ]
  },
  {
   "cell_type": "code",
   "execution_count": 4,
   "id": "be533c60",
   "metadata": {},
   "outputs": [
    {
     "data": {
      "text/plain": [
       "'r'"
      ]
     },
     "execution_count": 4,
     "metadata": {},
     "output_type": "execute_result"
    }
   ],
   "source": [
    "var[2]"
   ]
  },
  {
   "cell_type": "code",
   "execution_count": 6,
   "id": "b06d3ce6",
   "metadata": {},
   "outputs": [
    {
     "data": {
      "text/plain": [
       "'g'"
      ]
     },
     "execution_count": 6,
     "metadata": {},
     "output_type": "execute_result"
    }
   ],
   "source": [
    "var[-1]"
   ]
  },
  {
   "cell_type": "code",
   "execution_count": 7,
   "id": "d46a6673",
   "metadata": {},
   "outputs": [
    {
     "data": {
      "text/plain": [
       "'gnirts'"
      ]
     },
     "execution_count": 7,
     "metadata": {},
     "output_type": "execute_result"
    }
   ],
   "source": [
    "var[::-1]"
   ]
  },
  {
   "cell_type": "code",
   "execution_count": 13,
   "id": "ef7ecdcf",
   "metadata": {},
   "outputs": [],
   "source": [
    "variable = \"abcdefgh\""
   ]
  },
  {
   "cell_type": "code",
   "execution_count": 15,
   "id": "62e8b53d",
   "metadata": {},
   "outputs": [
    {
     "data": {
      "text/plain": [
       "'ace'"
      ]
     },
     "execution_count": 15,
     "metadata": {},
     "output_type": "execute_result"
    }
   ],
   "source": [
    "variable[0:6:2]"
   ]
  },
  {
   "cell_type": "code",
   "execution_count": 19,
   "id": "fa48b094",
   "metadata": {},
   "outputs": [],
   "source": [
    "str1=str(123)"
   ]
  },
  {
   "cell_type": "code",
   "execution_count": 20,
   "id": "e012a07f",
   "metadata": {},
   "outputs": [
    {
     "data": {
      "text/plain": [
       "'1'"
      ]
     },
     "execution_count": 20,
     "metadata": {},
     "output_type": "execute_result"
    }
   ],
   "source": [
    "str1[0]"
   ]
  },
  {
   "cell_type": "code",
   "execution_count": 21,
   "id": "965763a7",
   "metadata": {},
   "outputs": [],
   "source": [
    "l=[1,2,3,4,5,6,9,8]"
   ]
  },
  {
   "cell_type": "code",
   "execution_count": 22,
   "id": "62db73d1",
   "metadata": {},
   "outputs": [
    {
     "data": {
      "text/plain": [
       "[1, 2, 3, 4, 5, 6, 9, 8]"
      ]
     },
     "execution_count": 22,
     "metadata": {},
     "output_type": "execute_result"
    }
   ],
   "source": [
    "l"
   ]
  },
  {
   "cell_type": "code",
   "execution_count": 23,
   "id": "8b231003",
   "metadata": {},
   "outputs": [
    {
     "data": {
      "text/plain": [
       "1"
      ]
     },
     "execution_count": 23,
     "metadata": {},
     "output_type": "execute_result"
    }
   ],
   "source": [
    "l[0]"
   ]
  },
  {
   "cell_type": "code",
   "execution_count": 25,
   "id": "e56b436b",
   "metadata": {},
   "outputs": [],
   "source": [
    "l[2]=5"
   ]
  },
  {
   "cell_type": "code",
   "execution_count": 26,
   "id": "f1e96176",
   "metadata": {},
   "outputs": [
    {
     "data": {
      "text/plain": [
       "[1, 2, 5, 4, 5, 6, 9, 8]"
      ]
     },
     "execution_count": 26,
     "metadata": {},
     "output_type": "execute_result"
    }
   ],
   "source": [
    "l"
   ]
  },
  {
   "cell_type": "code",
   "execution_count": 27,
   "id": "4eefe937",
   "metadata": {},
   "outputs": [],
   "source": [
    "l1=(1, 2, 3, 4, 5, 6, 9, 8)"
   ]
  },
  {
   "cell_type": "code",
   "execution_count": 28,
   "id": "d29fc60a",
   "metadata": {},
   "outputs": [
    {
     "data": {
      "text/plain": [
       "tuple"
      ]
     },
     "execution_count": 28,
     "metadata": {},
     "output_type": "execute_result"
    }
   ],
   "source": [
    "type(l1)"
   ]
  },
  {
   "cell_type": "code",
   "execution_count": 32,
   "id": "08304084",
   "metadata": {},
   "outputs": [],
   "source": [
    "l.append(2)"
   ]
  },
  {
   "cell_type": "code",
   "execution_count": 35,
   "id": "a6861033",
   "metadata": {},
   "outputs": [
    {
     "data": {
      "text/plain": [
       "[1, 2, 5, 4, 5, 6, 9, 8, 2]"
      ]
     },
     "execution_count": 35,
     "metadata": {},
     "output_type": "execute_result"
    }
   ],
   "source": [
    "l"
   ]
  },
  {
   "cell_type": "code",
   "execution_count": 38,
   "id": "e75c3c4e",
   "metadata": {},
   "outputs": [
    {
     "data": {
      "text/plain": [
       "int"
      ]
     },
     "execution_count": 38,
     "metadata": {},
     "output_type": "execute_result"
    }
   ],
   "source": [
    "type(l1[0])"
   ]
  },
  {
   "cell_type": "code",
   "execution_count": 39,
   "id": "41e10523",
   "metadata": {},
   "outputs": [
    {
     "data": {
      "text/plain": [
       "2"
      ]
     },
     "execution_count": 39,
     "metadata": {},
     "output_type": "execute_result"
    }
   ],
   "source": [
    "l.pop()"
   ]
  },
  {
   "cell_type": "code",
   "execution_count": 40,
   "id": "10b0141b",
   "metadata": {},
   "outputs": [
    {
     "data": {
      "text/plain": [
       "[1, 2, 5, 4, 5, 6, 9, 8]"
      ]
     },
     "execution_count": 40,
     "metadata": {},
     "output_type": "execute_result"
    }
   ],
   "source": [
    "l"
   ]
  },
  {
   "cell_type": "code",
   "execution_count": 41,
   "id": "5ddea885",
   "metadata": {},
   "outputs": [],
   "source": [
    "l.reverse()"
   ]
  },
  {
   "cell_type": "code",
   "execution_count": 42,
   "id": "2a46233b",
   "metadata": {},
   "outputs": [
    {
     "data": {
      "text/plain": [
       "[8, 9, 6, 5, 4, 5, 2, 1]"
      ]
     },
     "execution_count": 42,
     "metadata": {},
     "output_type": "execute_result"
    }
   ],
   "source": [
    "l"
   ]
  },
  {
   "cell_type": "code",
   "execution_count": null,
   "id": "4e7aca20",
   "metadata": {},
   "outputs": [],
   "source": []
  },
  {
   "cell_type": "markdown",
   "id": "54a6593e",
   "metadata": {},
   "source": [
    "# Operators"
   ]
  },
  {
   "cell_type": "markdown",
   "id": "ddca2898",
   "metadata": {},
   "source": [
    "## Arithmetic operators"
   ]
  },
  {
   "cell_type": "markdown",
   "id": "e9c63a42",
   "metadata": {},
   "source": [
    "#### Addition\n",
    "#### Subtraction    \n",
    "#### Multiplication\n",
    "#### Division\n",
    "#### % Modulus         x % y\n",
    "#### ** Exponentiation x ** y\n",
    "#### //Floor division  x // y"
   ]
  },
  {
   "cell_type": "code",
   "execution_count": 17,
   "id": "c9877460",
   "metadata": {},
   "outputs": [
    {
     "name": "stdout",
     "output_type": "stream",
     "text": [
      "2\n",
      "5\n",
      "7 6 10\n"
     ]
    }
   ],
   "source": [
    "a=int(input())\n",
    "b=int(input())\n",
    "c=a+b\n",
    "z=c-1\n",
    "y= a*b\n",
    "print(c,z,y)"
   ]
  },
  {
   "cell_type": "code",
   "execution_count": 5,
   "id": "c8a9f62b",
   "metadata": {},
   "outputs": [
    {
     "data": {
      "text/plain": [
       "32"
      ]
     },
     "execution_count": 5,
     "metadata": {},
     "output_type": "execute_result"
    }
   ],
   "source": [
    "a**b"
   ]
  },
  {
   "cell_type": "code",
   "execution_count": 6,
   "id": "d7011ac2",
   "metadata": {},
   "outputs": [
    {
     "data": {
      "text/plain": [
       "4"
      ]
     },
     "execution_count": 6,
     "metadata": {},
     "output_type": "execute_result"
    }
   ],
   "source": [
    "a**2"
   ]
  },
  {
   "cell_type": "code",
   "execution_count": 8,
   "id": "3438d22e",
   "metadata": {},
   "outputs": [
    {
     "name": "stdout",
     "output_type": "stream",
     "text": [
      "2\n"
     ]
    }
   ],
   "source": [
    "x= input()"
   ]
  },
  {
   "cell_type": "code",
   "execution_count": 10,
   "id": "4274ea74",
   "metadata": {},
   "outputs": [
    {
     "data": {
      "text/plain": [
       "str"
      ]
     },
     "execution_count": 10,
     "metadata": {},
     "output_type": "execute_result"
    }
   ],
   "source": [
    "type(x)"
   ]
  },
  {
   "cell_type": "code",
   "execution_count": 14,
   "id": "37c9dec1",
   "metadata": {},
   "outputs": [
    {
     "name": "stdout",
     "output_type": "stream",
     "text": [
      "2\n"
     ]
    }
   ],
   "source": [
    "h=int(input())"
   ]
  },
  {
   "cell_type": "code",
   "execution_count": 16,
   "id": "6bf5b882",
   "metadata": {},
   "outputs": [
    {
     "data": {
      "text/plain": [
       "int"
      ]
     },
     "execution_count": 16,
     "metadata": {},
     "output_type": "execute_result"
    }
   ],
   "source": [
    "type(h)"
   ]
  },
  {
   "cell_type": "code",
   "execution_count": 19,
   "id": "a7dd20fd",
   "metadata": {},
   "outputs": [
    {
     "data": {
      "text/plain": [
       "5.0"
      ]
     },
     "execution_count": 19,
     "metadata": {},
     "output_type": "execute_result"
    }
   ],
   "source": [
    "a=10\n",
    "b=2\n",
    "a/b"
   ]
  },
  {
   "cell_type": "code",
   "execution_count": 32,
   "id": "d6f9b31d",
   "metadata": {},
   "outputs": [
    {
     "name": "stdout",
     "output_type": "stream",
     "text": [
      "a=50\n",
      "b=2\n",
      "/\n",
      "25.0\n"
     ]
    }
   ],
   "source": [
    "a=int(input(\"a=\"))\n",
    "b=int(input(\"b=\"))\n",
    "#opr = [\"+\",\"-\",\"-\",\"/\"] # for understanding\n",
    "oprator =input()\n",
    "if oprator == '+':\n",
    "    c= a+b\n",
    "    print(\"c =\",c)\n",
    "elif oprator == '-': \n",
    "    d= a-b\n",
    "    print(d)\n",
    "elif oprator == '*': \n",
    "    e= a*b\n",
    "    print(e)\n",
    "elif oprator == '/': \n",
    "    e= a/b\n",
    "    print(e)\n",
    "else:\n",
    "    print(\"Give valid operator + - * \")"
   ]
  },
  {
   "cell_type": "code",
   "execution_count": null,
   "id": "cc6ed1fa",
   "metadata": {},
   "outputs": [],
   "source": []
  },
  {
   "cell_type": "markdown",
   "id": "bc7573d7",
   "metadata": {},
   "source": [
    "## Comparison Operators"
   ]
  },
  {
   "cell_type": "markdown",
   "id": "c4d1c889",
   "metadata": {},
   "source": [
    "#### == Equal\n",
    "#### != Not equal\n",
    "#### > Greater than\n",
    "#### < Less than\n",
    "#### >= Greater than or equal to\n",
    "#### <= Less than or equal to"
   ]
  },
  {
   "cell_type": "code",
   "execution_count": 34,
   "id": "df7f2404",
   "metadata": {},
   "outputs": [
    {
     "name": "stdout",
     "output_type": "stream",
     "text": [
      "6  is not equal to 5\n"
     ]
    }
   ],
   "source": [
    "abc= 6\n",
    "\n",
    "if abc!= 5:\n",
    "    print(abc, \" is not equal to 5\")\n",
    "else:\n",
    "    print('abc is equal to 5')"
   ]
  },
  {
   "cell_type": "code",
   "execution_count": 38,
   "id": "9e7fbd76",
   "metadata": {},
   "outputs": [
    {
     "name": "stdout",
     "output_type": "stream",
     "text": [
      "matching 50\n"
     ]
    }
   ],
   "source": [
    "print(f\"matching {a}\")"
   ]
  },
  {
   "cell_type": "code",
   "execution_count": null,
   "id": "05eaac71",
   "metadata": {},
   "outputs": [],
   "source": [
    "Assignment \n",
    "\n",
    "write a code for simple calculator with the help of if elif else.\n",
    "use coditional statement with comparison operators and write some meaningfull code.\n",
    "Try to explore formated string\n"
   ]
  },
  {
   "cell_type": "code",
   "execution_count": null,
   "id": "8474cd73",
   "metadata": {},
   "outputs": [],
   "source": [
    "For lopp in next video"
   ]
  }
 ],
 "metadata": {
  "kernelspec": {
   "display_name": "Python 3 (ipykernel)",
   "language": "python",
   "name": "python3"
  },
  "language_info": {
   "codemirror_mode": {
    "name": "ipython",
    "version": 3
   },
   "file_extension": ".py",
   "mimetype": "text/x-python",
   "name": "python",
   "nbconvert_exporter": "python",
   "pygments_lexer": "ipython3",
   "version": "3.9.12"
  }
 },
 "nbformat": 4,
 "nbformat_minor": 5
}
