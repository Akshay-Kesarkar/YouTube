{
 "cells": [
  {
   "cell_type": "markdown",
   "id": "018cbf9b",
   "metadata": {},
   "source": [
    "# Python Applications"
   ]
  },
  {
   "cell_type": "markdown",
   "id": "37d600cc",
   "metadata": {},
   "source": [
    "Data Analysis</br>\n",
    "Website and Application Development</br>\n",
    "Desktop Application </br>\n",
    "Web Scraping </br>\n",
    "Data Visualization </br>\n",
    "Machine Learning and Artificial Intelligance </br>\n",
    "3D Application Development </br>\n",
    "Audio and Videos Software  </br>\n",
    "Scientific Calculation </br>\n",
    "Game Development"
   ]
  },
  {
   "cell_type": "markdown",
   "id": "c2f39f52",
   "metadata": {},
   "source": [
    "# For Loop"
   ]
  },
  {
   "cell_type": "code",
   "execution_count": 1,
   "id": "4a11f4d5",
   "metadata": {},
   "outputs": [
    {
     "name": "stdout",
     "output_type": "stream",
     "text": [
      "1\n",
      "2\n",
      "3\n",
      "4\n",
      "5\n"
     ]
    }
   ],
   "source": [
    "l=[1,2,3,4,5]\n",
    "for i in l:\n",
    "    print(i)"
   ]
  },
  {
   "cell_type": "code",
   "execution_count": 25,
   "id": "2f1e2bb6",
   "metadata": {},
   "outputs": [
    {
     "name": "stdout",
     "output_type": "stream",
     "text": [
      "1\n",
      "2\n",
      "3\n"
     ]
    }
   ],
   "source": [
    "print(l[0])\n",
    "print(l[1])\n",
    "print(l[2])"
   ]
  },
  {
   "cell_type": "code",
   "execution_count": 3,
   "id": "27c6fb2f",
   "metadata": {},
   "outputs": [
    {
     "name": "stdout",
     "output_type": "stream",
     "text": [
      "1\n",
      "5\n",
      "1\n",
      "15\n"
     ]
    }
   ],
   "source": [
    "l1=[1,5,1,15,16,18]\n",
    "for i in l1:\n",
    "    print(i)\n",
    "    if i== 15:\n",
    "        break"
   ]
  },
  {
   "cell_type": "code",
   "execution_count": 4,
   "id": "e99b240b",
   "metadata": {},
   "outputs": [
    {
     "name": "stdout",
     "output_type": "stream",
     "text": [
      "15\n",
      "1\n",
      "16\n",
      "17\n",
      "18\n"
     ]
    }
   ],
   "source": [
    "l2= (15,1,16,17,18)\n",
    "for i in l2:\n",
    "    print(i)\n",
    "    if i==16:\n",
    "        continue"
   ]
  },
  {
   "cell_type": "code",
   "execution_count": 31,
   "id": "257a287a",
   "metadata": {},
   "outputs": [
    {
     "name": "stdout",
     "output_type": "stream",
     "text": [
      "key\n",
      "key2\n",
      "key3\n"
     ]
    }
   ],
   "source": [
    "l3={\"key\":10, \"key2\":12, \"key3\":[12,15,16]}\n",
    "for i in l3:\n",
    "        print(i)"
   ]
  },
  {
   "cell_type": "code",
   "execution_count": 43,
   "id": "332a588f",
   "metadata": {},
   "outputs": [
    {
     "name": "stdout",
     "output_type": "stream",
     "text": [
      "10\n",
      "12\n",
      "12\n",
      "15\n",
      "16\n"
     ]
    }
   ],
   "source": [
    "l3={\"key\":10, \"key2\":12, \"key3\":[12,15,16]}\n",
    "ab=[]\n",
    "for i in l3:\n",
    "    if type(l3[i])==int:\n",
    "        print(l3[i])\n",
    "    if type(l3[i])==list:\n",
    "        ab.append(l3[i])\n",
    "        for i in ab:\n",
    "            for j in i:\n",
    "                print(j)"
   ]
  },
  {
   "cell_type": "code",
   "execution_count": 44,
   "id": "418ae7b1",
   "metadata": {},
   "outputs": [
    {
     "data": {
      "text/plain": [
       "[[12, 15, 16]]"
      ]
     },
     "execution_count": 44,
     "metadata": {},
     "output_type": "execute_result"
    }
   ],
   "source": [
    "ab"
   ]
  },
  {
   "cell_type": "code",
   "execution_count": 48,
   "id": "437a703e",
   "metadata": {},
   "outputs": [
    {
     "name": "stdout",
     "output_type": "stream",
     "text": [
      "12\n",
      "15\n",
      "16\n"
     ]
    }
   ],
   "source": [
    "for i in ab:\n",
    "    for j in i:\n",
    "        print(j)"
   ]
  },
  {
   "cell_type": "code",
   "execution_count": 41,
   "id": "f39728e1",
   "metadata": {},
   "outputs": [
    {
     "data": {
      "text/plain": [
       "10"
      ]
     },
     "execution_count": 41,
     "metadata": {},
     "output_type": "execute_result"
    }
   ],
   "source": [
    "l3[\"key\"]"
   ]
  },
  {
   "cell_type": "code",
   "execution_count": 6,
   "id": "b07b64fd",
   "metadata": {},
   "outputs": [
    {
     "data": {
      "text/plain": [
       "{'key': 10, 'key2': 12, 'key3': [12, 15, 16]}"
      ]
     },
     "execution_count": 6,
     "metadata": {},
     "output_type": "execute_result"
    }
   ],
   "source": [
    "l3"
   ]
  },
  {
   "cell_type": "code",
   "execution_count": 7,
   "id": "4883fecd",
   "metadata": {},
   "outputs": [
    {
     "data": {
      "text/plain": [
       "dict_keys(['key', 'key2', 'key3'])"
      ]
     },
     "execution_count": 7,
     "metadata": {},
     "output_type": "execute_result"
    }
   ],
   "source": [
    "l3.keys()"
   ]
  },
  {
   "cell_type": "code",
   "execution_count": 8,
   "id": "a51bfc20",
   "metadata": {},
   "outputs": [
    {
     "data": {
      "text/plain": [
       "[12, 15, 16]"
      ]
     },
     "execution_count": 8,
     "metadata": {},
     "output_type": "execute_result"
    }
   ],
   "source": [
    "l3[\"key3\"]"
   ]
  },
  {
   "cell_type": "code",
   "execution_count": 9,
   "id": "c7310877",
   "metadata": {},
   "outputs": [
    {
     "data": {
      "text/plain": [
       "dict_values([10, 12, [12, 15, 16]])"
      ]
     },
     "execution_count": 9,
     "metadata": {},
     "output_type": "execute_result"
    }
   ],
   "source": [
    "l3.values()"
   ]
  },
  {
   "cell_type": "code",
   "execution_count": 10,
   "id": "57c3fd6e",
   "metadata": {},
   "outputs": [
    {
     "name": "stdout",
     "output_type": "stream",
     "text": [
      "10\n",
      "12\n",
      "[12, 15, 16]\n"
     ]
    }
   ],
   "source": [
    "for i in l3.values():\n",
    "    print(i)"
   ]
  },
  {
   "cell_type": "code",
   "execution_count": 38,
   "id": "22a5846c",
   "metadata": {},
   "outputs": [],
   "source": [
    "d=range(10)"
   ]
  },
  {
   "cell_type": "code",
   "execution_count": 39,
   "id": "c0f1cc4d",
   "metadata": {},
   "outputs": [
    {
     "data": {
      "text/plain": [
       "0"
      ]
     },
     "execution_count": 39,
     "metadata": {},
     "output_type": "execute_result"
    }
   ],
   "source": [
    "d[0]"
   ]
  },
  {
   "cell_type": "code",
   "execution_count": 40,
   "id": "3702718d",
   "metadata": {},
   "outputs": [
    {
     "data": {
      "text/plain": [
       "1"
      ]
     },
     "execution_count": 40,
     "metadata": {},
     "output_type": "execute_result"
    }
   ],
   "source": [
    "d[1]"
   ]
  },
  {
   "cell_type": "code",
   "execution_count": 36,
   "id": "63734ae3",
   "metadata": {},
   "outputs": [
    {
     "name": "stdout",
     "output_type": "stream",
     "text": [
      "0\n",
      "1\n",
      "2\n",
      "3\n",
      "4\n",
      "5\n",
      "6\n",
      "7\n",
      "8\n",
      "9\n"
     ]
    }
   ],
   "source": [
    "for i in range(10):\n",
    "    print(i)"
   ]
  },
  {
   "cell_type": "code",
   "execution_count": 11,
   "id": "b2e57af1",
   "metadata": {},
   "outputs": [
    {
     "name": "stdout",
     "output_type": "stream",
     "text": [
      "10\n",
      "12\n",
      "12\n",
      "15\n",
      "16\n"
     ]
    }
   ],
   "source": [
    "l3={\"key\":10, \"key2\":12, \"key3\":[12,15,16]}\n",
    "abc=[]\n",
    "for i in l3:\n",
    "    if type(l3[i])== int:\n",
    "        print(l3[i])\n",
    "    if type(l3[i])== list:\n",
    "        abc.append(l3[i])\n",
    "        for i in abc:\n",
    "            for j in i:\n",
    "                print(j)  "
   ]
  },
  {
   "cell_type": "code",
   "execution_count": 12,
   "id": "666c639e",
   "metadata": {},
   "outputs": [
    {
     "name": "stdout",
     "output_type": "stream",
     "text": [
      "1 2 3 4 5 6 7 8 9 10 \n",
      "2 4 6 8 10 12 14 16 18 20 \n",
      "3 6 9 12 15 18 21 24 27 30 \n",
      "4 8 12 16 20 24 28 32 36 40 \n",
      "5 10 15 20 25 30 35 40 45 50 \n",
      "6 12 18 24 30 36 42 48 54 60 \n",
      "7 14 21 28 35 42 49 56 63 70 \n",
      "8 16 24 32 40 48 56 64 72 80 \n",
      "9 18 27 36 45 54 63 72 81 90 \n",
      "10 20 30 40 50 60 70 80 90 100 \n"
     ]
    }
   ],
   "source": [
    "# outer loop\n",
    "for i in range(1, 11):\n",
    "    # nested loop\n",
    "    # to iterate from 1 to 10\n",
    "    for j in range(1, 11):\n",
    "        # print multiplication\n",
    "        print(i * j, end=' ')\n",
    "    print()"
   ]
  },
  {
   "cell_type": "code",
   "execution_count": 55,
   "id": "8410a9c7",
   "metadata": {},
   "outputs": [
    {
     "name": "stdout",
     "output_type": "stream",
     "text": [
      "* \n",
      "* * \n",
      "* * * \n",
      "* * * * \n",
      "* * * * * \n",
      "* * * * * * \n",
      "* * * * * * * \n"
     ]
    }
   ],
   "source": [
    "rows = 7\n",
    "# outer loop\n",
    "for i in range(1, rows + 1):\n",
    "    # inner loop\n",
    "    for j in range(1, i + 1):\n",
    "        print(\"*\", end=\" \")\n",
    "    print('')"
   ]
  },
  {
   "cell_type": "code",
   "execution_count": 59,
   "id": "f3495632",
   "metadata": {},
   "outputs": [
    {
     "name": "stdout",
     "output_type": "stream",
     "text": [
      "1\n",
      "2\n",
      "3\n",
      "7\n",
      "5\n",
      "6\n",
      "abc\n",
      "12\n",
      "115\n"
     ]
    }
   ],
   "source": [
    "numbers = [[1, 2, 3], [7, 5, 6],[\"abc\",12,115]]\n",
    "\n",
    "for i in numbers:\n",
    "    for j in i:\n",
    "        print(j)"
   ]
  },
  {
   "cell_type": "code",
   "execution_count": 15,
   "id": "626b637e",
   "metadata": {},
   "outputs": [
    {
     "name": "stdout",
     "output_type": "stream",
     "text": [
      "2\n",
      "5\n",
      "6\n",
      "7\n",
      "8\n"
     ]
    }
   ],
   "source": [
    "x= {2,2,5,7,7,5,6,8}\n",
    "for i in x:\n",
    "    print(i)"
   ]
  },
  {
   "cell_type": "code",
   "execution_count": 16,
   "id": "bd326dd4",
   "metadata": {},
   "outputs": [
    {
     "data": {
      "text/plain": [
       "set"
      ]
     },
     "execution_count": 16,
     "metadata": {},
     "output_type": "execute_result"
    }
   ],
   "source": [
    "type(x)"
   ]
  },
  {
   "cell_type": "code",
   "execution_count": 17,
   "id": "ae5b8d06",
   "metadata": {},
   "outputs": [
    {
     "data": {
      "text/plain": [
       "{2, 5, 6, 7, 8}"
      ]
     },
     "execution_count": 17,
     "metadata": {},
     "output_type": "execute_result"
    }
   ],
   "source": [
    "x"
   ]
  },
  {
   "cell_type": "code",
   "execution_count": 18,
   "id": "8e1c80b6",
   "metadata": {},
   "outputs": [
    {
     "name": "stdout",
     "output_type": "stream",
     "text": [
      "7\n",
      "8\n",
      "9\n",
      "4,5,6 is less than 6\n"
     ]
    }
   ],
   "source": [
    "l4= [4,5,6,7,8,9]\n",
    "for i in l4:\n",
    "    if i > 6:\n",
    "        print(i)\n",
    "else:\n",
    "    print(\"4,5,6 is less than 6\")    "
   ]
  },
  {
   "cell_type": "code",
   "execution_count": 19,
   "id": "81ac1fc9",
   "metadata": {},
   "outputs": [
    {
     "name": "stdout",
     "output_type": "stream",
     "text": [
      "4\n",
      "5\n",
      "6\n",
      "4,5,6 is less than 6\n"
     ]
    }
   ],
   "source": [
    "l4= [4,5,6,7,8,9]\n",
    "for i in l4:\n",
    "    if i < 7:\n",
    "        print(i)  \n",
    "else:\n",
    "    print(\"4,5,6 is less than 6\")"
   ]
  },
  {
   "cell_type": "code",
   "execution_count": 20,
   "id": "414ca808",
   "metadata": {},
   "outputs": [
    {
     "name": "stdout",
     "output_type": "stream",
     "text": [
      "4\n",
      "5\n",
      "6\n"
     ]
    }
   ],
   "source": [
    "l4= [4,5,6,7,8,9]\n",
    "for i in l4:\n",
    "    if i == 7:\n",
    "        break\n",
    "    print(i)\n",
    "else:\n",
    "    print(\"4,5,6 is less than 6\")   "
   ]
  },
  {
   "cell_type": "code",
   "execution_count": 21,
   "id": "4cbebd43",
   "metadata": {},
   "outputs": [
    {
     "name": "stdout",
     "output_type": "stream",
     "text": [
      "4\n",
      "5\n",
      "7\n",
      "8\n",
      "9\n",
      "4,5,6 is less than 6\n"
     ]
    }
   ],
   "source": [
    "l4= [4,5,6,7,8,9]\n",
    "for i in l4:\n",
    "    if i == 6:\n",
    "        continue\n",
    "    print(i)\n",
    "else:\n",
    "    print(\"4,5,6 is less than 6\") "
   ]
  },
  {
   "cell_type": "code",
   "execution_count": 22,
   "id": "fb0cdd46",
   "metadata": {},
   "outputs": [
    {
     "name": "stdout",
     "output_type": "stream",
     "text": [
      "4\n",
      "5\n",
      "6\n",
      "7\n",
      "8\n",
      "9\n",
      "4,5,6 is less than 6\n"
     ]
    }
   ],
   "source": [
    "l4= [4,5,6,7,8,9]\n",
    "for i in l4:\n",
    "    if i == 10:\n",
    "        break\n",
    "    print(i)\n",
    "else:\n",
    "    print(\"4,5,6 is less than 6\") "
   ]
  },
  {
   "cell_type": "code",
   "execution_count": 23,
   "id": "b1ccf418",
   "metadata": {},
   "outputs": [
    {
     "name": "stdout",
     "output_type": "stream",
     "text": [
      "a\n",
      "b\n",
      "c\n",
      "d\n",
      "e\n",
      "f\n"
     ]
    }
   ],
   "source": [
    "l5= \"abcdef\"\n",
    "for i in l5:\n",
    "    print(i)"
   ]
  },
  {
   "cell_type": "code",
   "execution_count": 60,
   "id": "b4b59f3a",
   "metadata": {},
   "outputs": [
    {
     "ename": "TypeError",
     "evalue": "'int' object is not iterable",
     "output_type": "error",
     "traceback": [
      "\u001b[1;31m---------------------------------------------------------------------------\u001b[0m",
      "\u001b[1;31mTypeError\u001b[0m                                 Traceback (most recent call last)",
      "Input \u001b[1;32mIn [60]\u001b[0m, in \u001b[0;36m<cell line: 2>\u001b[1;34m()\u001b[0m\n\u001b[0;32m      1\u001b[0m l6\u001b[38;5;241m=\u001b[39m\u001b[38;5;241m1256776\u001b[39m\n\u001b[1;32m----> 2\u001b[0m \u001b[38;5;28;01mfor\u001b[39;00m i \u001b[38;5;129;01min\u001b[39;00m l6:\n\u001b[0;32m      3\u001b[0m     \u001b[38;5;28mprint\u001b[39m(i)\n",
      "\u001b[1;31mTypeError\u001b[0m: 'int' object is not iterable"
     ]
    }
   ],
   "source": [
    "l6=1256776\n",
    "for i in l6:\n",
    "    print(i)"
   ]
  },
  {
   "cell_type": "code",
   "execution_count": null,
   "id": "ecfe5ee7",
   "metadata": {},
   "outputs": [],
   "source": []
  }
 ],
 "metadata": {
  "kernelspec": {
   "display_name": "Python 3 (ipykernel)",
   "language": "python",
   "name": "python3"
  },
  "language_info": {
   "codemirror_mode": {
    "name": "ipython",
    "version": 3
   },
   "file_extension": ".py",
   "mimetype": "text/x-python",
   "name": "python",
   "nbconvert_exporter": "python",
   "pygments_lexer": "ipython3",
   "version": "3.9.12"
  }
 },
 "nbformat": 4,
 "nbformat_minor": 5
}
