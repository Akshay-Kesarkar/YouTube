{
 "cells": [
  {
   "cell_type": "markdown",
   "id": "9fdea234",
   "metadata": {},
   "source": [
    "## While Loop with diffrent examples"
   ]
  },
  {
   "cell_type": "code",
   "execution_count": 66,
   "id": "da74fae1",
   "metadata": {},
   "outputs": [
    {
     "name": "stdout",
     "output_type": "stream",
     "text": [
      "1\n",
      "2\n",
      "3\n",
      "4\n",
      "5\n",
      "6\n",
      "7\n",
      "8\n",
      "9\n",
      "10\n"
     ]
    }
   ],
   "source": [
    "a=1\n",
    "while a <11:\n",
    "    print(a)\n",
    "    a=a+1"
   ]
  },
  {
   "cell_type": "code",
   "execution_count": 2,
   "id": "d8069fbe",
   "metadata": {},
   "outputs": [
    {
     "name": "stdout",
     "output_type": "stream",
     "text": [
      "1\n",
      "2\n",
      "3\n",
      "4\n",
      "5\n",
      "6\n",
      "7\n",
      "8\n",
      "9\n",
      "10\n"
     ]
    }
   ],
   "source": [
    "a=1\n",
    "b=10\n",
    "while a <=b:\n",
    "    print(a)\n",
    "    a = a +1"
   ]
  },
  {
   "cell_type": "code",
   "execution_count": 64,
   "id": "7511dba2",
   "metadata": {},
   "outputs": [
    {
     "name": "stdout",
     "output_type": "stream",
     "text": [
      "1\n",
      "2\n",
      "3\n",
      "4\n",
      "5\n",
      "6\n",
      "7\n",
      "8\n",
      "9\n",
      "10\n"
     ]
    }
   ],
   "source": [
    "a=0\n",
    "b=9\n",
    "while a <=b:\n",
    "    a = a +1\n",
    "    print(a)"
   ]
  },
  {
   "cell_type": "code",
   "execution_count": 4,
   "id": "395d4c6f",
   "metadata": {},
   "outputs": [
    {
     "name": "stdout",
     "output_type": "stream",
     "text": [
      "1\n",
      "3\n",
      "5\n",
      "7\n",
      "9\n",
      "print this else block\n"
     ]
    }
   ],
   "source": [
    "a = 1\n",
    "b = 10 \n",
    "while a <=b :\n",
    "    print(a)\n",
    "    a = a +2\n",
    "else :\n",
    "    print(\"print this else block\")"
   ]
  },
  {
   "cell_type": "code",
   "execution_count": 67,
   "id": "645592e6",
   "metadata": {},
   "outputs": [
    {
     "name": "stdout",
     "output_type": "stream",
     "text": [
      "4\n",
      "3\n",
      "2\n",
      "1\n"
     ]
    }
   ],
   "source": [
    "\n",
    "# checks if list still\n",
    "# contains any element\n",
    "a = [1, 2, 3, 4]\n",
    "\n",
    "while a:\n",
    "    print(a.pop())"
   ]
  },
  {
   "cell_type": "code",
   "execution_count": 68,
   "id": "51de676c",
   "metadata": {},
   "outputs": [
    {
     "data": {
      "text/plain": [
       "[]"
      ]
     },
     "execution_count": 68,
     "metadata": {},
     "output_type": "execute_result"
    }
   ],
   "source": [
    "a"
   ]
  },
  {
   "cell_type": "code",
   "execution_count": 73,
   "id": "75856e1e",
   "metadata": {},
   "outputs": [
    {
     "name": "stdout",
     "output_type": "stream",
     "text": [
      "Current Letter : b\n",
      "Current Letter : c\n",
      "Current Letter : d\n",
      "Current Letter : e\n",
      "Current Letter : f\n",
      "Current Letter : g\n"
     ]
    }
   ],
   "source": [
    "i = 0\n",
    "a = 'abcdefgh'\n",
    "  \n",
    "while i < len(a):\n",
    "    if a[i] == 'a' or a[i] == 'h':\n",
    "        i += 1\n",
    "        continue  \n",
    "    print('Current Letter :', a[i])\n",
    "    i += 1"
   ]
  },
  {
   "cell_type": "code",
   "execution_count": null,
   "id": "ba032925",
   "metadata": {},
   "outputs": [],
   "source": []
  },
  {
   "cell_type": "code",
   "execution_count": 70,
   "id": "273c42ff",
   "metadata": {},
   "outputs": [
    {
     "data": {
      "text/plain": [
       "8"
      ]
     },
     "execution_count": 70,
     "metadata": {},
     "output_type": "execute_result"
    }
   ],
   "source": [
    "len(a)"
   ]
  },
  {
   "cell_type": "code",
   "execution_count": 8,
   "id": "d78be34f",
   "metadata": {},
   "outputs": [
    {
     "name": "stdout",
     "output_type": "stream",
     "text": [
      "1\n",
      "2\n",
      "3\n",
      "4\n",
      "No Break\n",
      "\n",
      "1\n"
     ]
    }
   ],
   "source": [
    "\n",
    "# Python program to demonstrate\n",
    "# while-else loop\n",
    "  \n",
    "i = 0\n",
    "while i < 4:\n",
    "    i += 1\n",
    "    print(i)\n",
    "else:  # Executed because no break in for\n",
    "    print(\"No Break\\n\")\n",
    "  \n",
    "i = 0\n",
    "while i < 4:\n",
    "    i += 1\n",
    "    print(i)\n",
    "    break\n",
    "else:  # Not executed as there is a break\n",
    "    print(\"No Break\")"
   ]
  },
  {
   "cell_type": "code",
   "execution_count": 85,
   "id": "d1fdec9f",
   "metadata": {},
   "outputs": [
    {
     "name": "stdout",
     "output_type": "stream",
     "text": [
      "a a a a a "
     ]
    }
   ],
   "source": [
    "b=1\n",
    "while b<=5:\n",
    "    b=b+1\n",
    "    print(\"a\", end = \" \") "
   ]
  },
  {
   "cell_type": "code",
   "execution_count": 87,
   "id": "4d831130",
   "metadata": {},
   "outputs": [
    {
     "name": "stdout",
     "output_type": "stream",
     "text": [
      "* \n",
      "* * \n",
      "* * * \n",
      "* * * * \n",
      "* * * * * \n"
     ]
    }
   ],
   "source": [
    "rows= 5\n",
    " \n",
    "i = 1\n",
    "while i <= n :\n",
    "    column = 1\n",
    "    while column <= i:\n",
    "        print(\"*\", end = \" \")\n",
    "        column += 1\n",
    "    print()\n",
    "    i += 1"
   ]
  },
  {
   "cell_type": "code",
   "execution_count": null,
   "id": "292eb4a1",
   "metadata": {},
   "outputs": [],
   "source": []
  },
  {
   "cell_type": "code",
   "execution_count": 89,
   "id": "dd22ffa5",
   "metadata": {},
   "outputs": [
    {
     "name": "stdout",
     "output_type": "stream",
     "text": [
      "* * * * * \n",
      "* * * * \n",
      "* * * \n",
      "* * \n",
      "* \n"
     ]
    }
   ],
   "source": [
    "rows= 5\n",
    " \n",
    "i = 1\n",
    "while i <= n :\n",
    "    column = n\n",
    "    while column >= i:\n",
    "        print(\"*\", end = \" \")\n",
    "        column -= 1\n",
    "    print()\n",
    "    i += 1"
   ]
  },
  {
   "cell_type": "code",
   "execution_count": 48,
   "id": "4ab31fa2",
   "metadata": {},
   "outputs": [
    {
     "name": "stdout",
     "output_type": "stream",
     "text": [
      "* * * * * "
     ]
    }
   ],
   "source": [
    "b=1\n",
    "while b<=5:\n",
    "    print(\"*\",end = \" \") \n",
    "    b=b+1"
   ]
  },
  {
   "cell_type": "code",
   "execution_count": null,
   "id": "f5dfe686",
   "metadata": {},
   "outputs": [],
   "source": []
  },
  {
   "cell_type": "code",
   "execution_count": null,
   "id": "4f7b0370",
   "metadata": {},
   "outputs": [],
   "source": []
  },
  {
   "cell_type": "code",
   "execution_count": null,
   "id": "7d14db63",
   "metadata": {},
   "outputs": [],
   "source": []
  },
  {
   "cell_type": "code",
   "execution_count": null,
   "id": "d3bd9e26",
   "metadata": {},
   "outputs": [],
   "source": []
  },
  {
   "cell_type": "code",
   "execution_count": 95,
   "id": "2e80289a",
   "metadata": {},
   "outputs": [
    {
     "name": "stdout",
     "output_type": "stream",
     "text": [
      "    *\n",
      "   **\n",
      "  ***\n",
      " ****\n",
      "*****\n"
     ]
    }
   ],
   "source": [
    "n=5\n",
    "i = 1\n",
    "while i<=n:\n",
    "      # printing stars\n",
    "    print(\" \"*(n-i) + \"*\" * i)\n",
    "    i=i+1"
   ]
  },
  {
   "cell_type": "code",
   "execution_count": 94,
   "id": "f775721e",
   "metadata": {},
   "outputs": [
    {
     "name": "stdout",
     "output_type": "stream",
     "text": [
      "abcabcabcabc\n"
     ]
    }
   ],
   "source": [
    "print(\"abc\"*4)"
   ]
  },
  {
   "cell_type": "code",
   "execution_count": null,
   "id": "d540d4da",
   "metadata": {},
   "outputs": [],
   "source": []
  },
  {
   "cell_type": "code",
   "execution_count": null,
   "id": "56c776de",
   "metadata": {},
   "outputs": [],
   "source": []
  },
  {
   "cell_type": "code",
   "execution_count": null,
   "id": "27888fe8",
   "metadata": {},
   "outputs": [],
   "source": []
  },
  {
   "cell_type": "code",
   "execution_count": 14,
   "id": "a63dd0cc",
   "metadata": {},
   "outputs": [
    {
     "name": "stdout",
     "output_type": "stream",
     "text": [
      "    *\n",
      "   **\n",
      "  ***\n",
      " ****\n",
      "*****\n"
     ]
    }
   ],
   "source": [
    "n= 5\n",
    "y = 1\n",
    "while y<=n:\n",
    "      # printing stars\n",
    "    c=\" \"*(n-y)\n",
    "    print(c + \"*\" * y)\n",
    "    y=y+1"
   ]
  },
  {
   "cell_type": "code",
   "execution_count": 90,
   "id": "4f540a80",
   "metadata": {},
   "outputs": [
    {
     "name": "stdout",
     "output_type": "stream",
     "text": [
      "    *\n"
     ]
    }
   ],
   "source": [
    "print(\" \"*4 + \"*\" * 1)"
   ]
  },
  {
   "cell_type": "code",
   "execution_count": 91,
   "id": "baade080",
   "metadata": {},
   "outputs": [
    {
     "name": "stdout",
     "output_type": "stream",
     "text": [
      "   **\n"
     ]
    }
   ],
   "source": [
    "print(\" \"*3 + \"*\" *2)"
   ]
  },
  {
   "cell_type": "code",
   "execution_count": null,
   "id": "cb02c2d9",
   "metadata": {},
   "outputs": [],
   "source": []
  },
  {
   "cell_type": "code",
   "execution_count": null,
   "id": "e3468b6e",
   "metadata": {},
   "outputs": [],
   "source": []
  },
  {
   "cell_type": "code",
   "execution_count": 33,
   "id": "1727537f",
   "metadata": {},
   "outputs": [
    {
     "name": "stdout",
     "output_type": "stream",
     "text": [
      "    *\n",
      "   **\n",
      "  ***\n",
      " ****\n",
      "*****\n"
     ]
    }
   ],
   "source": [
    "\n",
    "print(\" \"*4 + \"*\" * 1)\n",
    "print(\" \"*3 + \"*\" *2)\n",
    "print(\" \"*2 + \"*\" *3)\n",
    "print(\" \"*1 + \"*\" *4)\n",
    "print(\" \"*0 + \"*\" *5)"
   ]
  },
  {
   "cell_type": "code",
   "execution_count": 96,
   "id": "906c9beb",
   "metadata": {},
   "outputs": [],
   "source": [
    "d = {'k1' :\"sudh\" , \"k2\" :[1,2,3,4] , \"k3\" : (2,3,4,5)}"
   ]
  },
  {
   "cell_type": "code",
   "execution_count": 97,
   "id": "a7fd8854",
   "metadata": {},
   "outputs": [
    {
     "name": "stdout",
     "output_type": "stream",
     "text": [
      "sudh\n",
      "[1, 2, 3, 4]\n",
      "(2, 3, 4, 5)\n"
     ]
    }
   ],
   "source": [
    "a = 0 \n",
    "b = list(d.keys())\n",
    "while a < len(d):\n",
    "    print(d[b[a]])\n",
    "    a = a+1"
   ]
  },
  {
   "cell_type": "code",
   "execution_count": 98,
   "id": "b37ffbd3",
   "metadata": {},
   "outputs": [],
   "source": []
  },
  {
   "cell_type": "code",
   "execution_count": 104,
   "id": "26c80f49",
   "metadata": {},
   "outputs": [
    {
     "data": {
      "text/plain": [
       "(2, 3, 4, 5)"
      ]
     },
     "execution_count": 104,
     "metadata": {},
     "output_type": "execute_result"
    }
   ],
   "source": [
    "d[\"k3\"]"
   ]
  },
  {
   "cell_type": "code",
   "execution_count": 107,
   "id": "18657a3c",
   "metadata": {},
   "outputs": [],
   "source": [
    "t = (3,4,5,6,7,8,9)"
   ]
  },
  {
   "cell_type": "code",
   "execution_count": 108,
   "id": "f256f891",
   "metadata": {},
   "outputs": [
    {
     "name": "stdout",
     "output_type": "stream",
     "text": [
      "index of 7 is -3\n",
      "index of 6 is -4\n"
     ]
    }
   ],
   "source": [
    "i = 0\n",
    "while  -len(t) < i:\n",
    "    if t[i] == 6 or t[i] == 7:\n",
    "        print (\"index of \" + str(t[i]) + \" is \" +str(i))\n",
    "    i-=1"
   ]
  },
  {
   "cell_type": "code",
   "execution_count": 55,
   "id": "4e3f8504",
   "metadata": {},
   "outputs": [
    {
     "data": {
      "text/plain": [
       "6"
      ]
     },
     "execution_count": 55,
     "metadata": {},
     "output_type": "execute_result"
    }
   ],
   "source": [
    "t[0]"
   ]
  },
  {
   "cell_type": "code",
   "execution_count": 109,
   "id": "69015205",
   "metadata": {},
   "outputs": [
    {
     "data": {
      "text/plain": [
       "7"
      ]
     },
     "execution_count": 109,
     "metadata": {},
     "output_type": "execute_result"
    }
   ],
   "source": [
    "len(t)"
   ]
  },
  {
   "cell_type": "markdown",
   "id": "17f8a1b7",
   "metadata": {},
   "source": [
    "len() </br>\n",
    "range() </br>\n",
    "print </br>\n",
    "keys </br>\n",
    "values </br>\n",
    "items </br>\n",
    "append </br>\n",
    "pop </br>\n",
    "insert </br>\n",
    "extend"
   ]
  },
  {
   "cell_type": "code",
   "execution_count": 112,
   "id": "ce100ec0",
   "metadata": {},
   "outputs": [
    {
     "name": "stdout",
     "output_type": "stream",
     "text": [
      "1\n",
      "2\n",
      "3\n",
      "4\n",
      "5\n",
      "6\n",
      "7\n",
      "8\n",
      "9\n"
     ]
    }
   ],
   "source": [
    "a = 1 \n",
    "b = 10 \n",
    "while a < b :\n",
    "    print(a)\n",
    "    if a == 3:\n",
    "        pass\n",
    "    a = a +1"
   ]
  },
  {
   "cell_type": "code",
   "execution_count": null,
   "id": "d7814b41",
   "metadata": {},
   "outputs": [],
   "source": []
  }
 ],
 "metadata": {
  "kernelspec": {
   "display_name": "Python 3 (ipykernel)",
   "language": "python",
   "name": "python3"
  },
  "language_info": {
   "codemirror_mode": {
    "name": "ipython",
    "version": 3
   },
   "file_extension": ".py",
   "mimetype": "text/x-python",
   "name": "python",
   "nbconvert_exporter": "python",
   "pygments_lexer": "ipython3",
   "version": "3.9.12"
  }
 },
 "nbformat": 4,
 "nbformat_minor": 5
}
